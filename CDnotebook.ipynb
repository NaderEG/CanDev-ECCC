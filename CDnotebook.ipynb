{
 "cells": [
  {
   "cell_type": "code",
   "execution_count": 16,
   "metadata": {},
   "outputs": [
    {
     "name": "stdout",
     "output_type": "stream",
     "text": [
      "(0, 0, 0, 0, 0, 0, 22883)\n"
     ]
    }
   ],
   "source": [
    "def flagger (data):\n",
    "\n",
    "    #data = \"2012,AO,Artisanal opportunities,future,0,Global average,80.74,\"\n",
    "    #data[r][c]\n",
    "    #counts\n",
    "\n",
    "    scenerioCounter=0\n",
    "    goalsCounter=0\n",
    "    longGoalCounter=0\n",
    "    dimensionCounter=0\n",
    "    regionIDCounter=0\n",
    "    region_nameCounter=0\n",
    "    valueCounter=0\n",
    "\n",
    "\n",
    "    for i in range(len(data)):\n",
    "\n",
    "\n",
    "        if (not(data[i][0].isdigit())):\n",
    "            scenerioCounter=scenerioCounter+1\n",
    "\n",
    "            #print(\"Scenerio: \" + str(data[i][0]))\n",
    "\n",
    "        if (not(data[i][1].isalpha())):\n",
    "            goalsCounter=goalsCounter+1\n",
    "\n",
    "            #print(\"goals: \" + str(data[i][1]))\n",
    "\n",
    "        if (not(data[i][2].replace(\" \",\"\").replace(\"&\",\"\").replace(\"(\",\"\").replace(\")\",\"\").isalpha())):\n",
    "            longGoalCounter=longGoalCounter+1\n",
    "\n",
    "            #print(\"long goal: \" + str(data[i][2]))\n",
    "\n",
    "        if (not(data[i][3].isalpha())):\n",
    "            dimensionCounter=dimensionCounter+1\n",
    "\n",
    "            #print(\"dimension \" + str(data[i][3]))\n",
    "\n",
    "        if (not(data[i][4].isdigit())):\n",
    "            regionIDCounter=regionIDCounter+1\n",
    "\n",
    "            #print(\"region ID: \" + str(data[i][4]))\n",
    "\n",
    "        if (not(data[i][5].replace(\" \",\"\").replace(\"_\",\"\").replace(\"(\",\"\").replace(\")\",\"\").replace(\"-\",\"\").isalpha())):\n",
    "            region_nameCounter=region_nameCounter+1\n",
    "\n",
    "            #print(\"region name: \" + str(data[i][5]))\n",
    "\n",
    "        if (not(data[i][6].replace(\".\",\"\").replace(\"-\",\"\").isdigit())):\n",
    "            valueCounter=valueCounter+1\n",
    "\n",
    "            #print(\"value: \" + str(data[i][6]))\n",
    "\n",
    "    return scenerioCounter, goalsCounter, longGoalCounter, dimensionCounter, regionIDCounter, region_nameCounter, valueCounter\n",
    "\n",
    "dataset = open('DataTestNI.txt')\n",
    "lines = dataset.readlines()\n",
    "row = []\n",
    "for line in lines:\n",
    "\n",
    "    row.append(line.strip().split(\",\"))\n",
    "\n",
    "typeerror_count = flagger(row)"
   ]
  },
  {
   "cell_type": "code",
   "execution_count": 5,
   "metadata": {},
   "outputs": [],
   "source": [
    "import pandas as pd\n",
    "import numpy as np"
   ]
  },
  {
   "cell_type": "code",
   "execution_count": 6,
   "metadata": {},
   "outputs": [],
   "source": [
    "# Import excel data into python\n",
    "\n",
    "# OHIdata = 'OHIData.xlsx'\n",
    "# OHI = pd.read_excel(OHIdata)\n",
    "\n",
    "OHI = pd.read_csv('OHIDataSet.csv')"
   ]
  },
  {
   "cell_type": "code",
   "execution_count": 7,
   "metadata": {},
   "outputs": [
    {
     "data": {
      "text/plain": [
       "(8, 146196)"
      ]
     },
     "execution_count": 7,
     "metadata": {},
     "output_type": "execute_result"
    }
   ],
   "source": [
    "len(OHI.columns), len(OHI)"
   ]
  },
  {
   "cell_type": "code",
   "execution_count": 8,
   "metadata": {},
   "outputs": [
    {
     "data": {
      "text/html": [
       "<div>\n",
       "<style scoped>\n",
       "    .dataframe tbody tr th:only-of-type {\n",
       "        vertical-align: middle;\n",
       "    }\n",
       "\n",
       "    .dataframe tbody tr th {\n",
       "        vertical-align: top;\n",
       "    }\n",
       "\n",
       "    .dataframe thead th {\n",
       "        text-align: right;\n",
       "    }\n",
       "</style>\n",
       "<table border=\"1\" class=\"dataframe\">\n",
       "  <thead>\n",
       "    <tr style=\"text-align: right;\">\n",
       "      <th></th>\n",
       "      <th>scenario</th>\n",
       "      <th>goals</th>\n",
       "      <th>long_goal</th>\n",
       "      <th>dimension</th>\n",
       "      <th>region_id</th>\n",
       "      <th>region_name</th>\n",
       "      <th>value</th>\n",
       "      <th>Unnamed: 7</th>\n",
       "    </tr>\n",
       "  </thead>\n",
       "  <tbody>\n",
       "    <tr>\n",
       "      <th>0</th>\n",
       "      <td>2012</td>\n",
       "      <td>AO</td>\n",
       "      <td>Artisanal opportunities</td>\n",
       "      <td>future</td>\n",
       "      <td>0</td>\n",
       "      <td>Global average</td>\n",
       "      <td>80.74</td>\n",
       "      <td>NaN</td>\n",
       "    </tr>\n",
       "    <tr>\n",
       "      <th>1</th>\n",
       "      <td>2012</td>\n",
       "      <td>AO</td>\n",
       "      <td>Artisanal opportunities</td>\n",
       "      <td>future</td>\n",
       "      <td>1</td>\n",
       "      <td>Cocos Islands</td>\n",
       "      <td>100.00</td>\n",
       "      <td>NaN</td>\n",
       "    </tr>\n",
       "    <tr>\n",
       "      <th>2</th>\n",
       "      <td>2012</td>\n",
       "      <td>AO</td>\n",
       "      <td>Artisanal opportunities</td>\n",
       "      <td>future</td>\n",
       "      <td>2</td>\n",
       "      <td>Christmas Island</td>\n",
       "      <td>100.00</td>\n",
       "      <td>NaN</td>\n",
       "    </tr>\n",
       "    <tr>\n",
       "      <th>3</th>\n",
       "      <td>2012</td>\n",
       "      <td>AO</td>\n",
       "      <td>Artisanal opportunities</td>\n",
       "      <td>future</td>\n",
       "      <td>3</td>\n",
       "      <td>Norfolk Island</td>\n",
       "      <td>100.00</td>\n",
       "      <td>NaN</td>\n",
       "    </tr>\n",
       "    <tr>\n",
       "      <th>4</th>\n",
       "      <td>2012</td>\n",
       "      <td>AO</td>\n",
       "      <td>Artisanal opportunities</td>\n",
       "      <td>future</td>\n",
       "      <td>4</td>\n",
       "      <td>Macquarie Island</td>\n",
       "      <td>100.00</td>\n",
       "      <td>NaN</td>\n",
       "    </tr>\n",
       "  </tbody>\n",
       "</table>\n",
       "</div>"
      ],
      "text/plain": [
       "   scenario goals                long_goal dimension  region_id  \\\n",
       "0      2012    AO  Artisanal opportunities    future          0   \n",
       "1      2012    AO  Artisanal opportunities    future          1   \n",
       "2      2012    AO  Artisanal opportunities    future          2   \n",
       "3      2012    AO  Artisanal opportunities    future          3   \n",
       "4      2012    AO  Artisanal opportunities    future          4   \n",
       "\n",
       "        region_name   value  Unnamed: 7  \n",
       "0    Global average   80.74         NaN  \n",
       "1     Cocos Islands  100.00         NaN  \n",
       "2  Christmas Island  100.00         NaN  \n",
       "3    Norfolk Island  100.00         NaN  \n",
       "4  Macquarie Island  100.00         NaN  "
      ]
     },
     "execution_count": 8,
     "metadata": {},
     "output_type": "execute_result"
    }
   ],
   "source": [
    "OHI.iloc[0:5,]"
   ]
  },
  {
   "cell_type": "code",
   "execution_count": 9,
   "metadata": {},
   "outputs": [],
   "source": [
    "colheaders = list(OHI.columns.values)"
   ]
  },
  {
   "cell_type": "code",
   "execution_count": 10,
   "metadata": {},
   "outputs": [],
   "source": [
    "# Check number of missing/NA values ~ if over 80% then remove\n",
    "\n",
    "OHItest = OHI\n",
    "unwanted = [column for column in OHItest.columns \n",
    "                if OHItest[column].isna().sum()/len(OHItest[column]) > 0.2]\n",
    "unwanted = \"\".join(unwanted)\n",
    "OHItest = OHItest.drop(unwanted, axis=1)"
   ]
  },
  {
   "cell_type": "code",
   "execution_count": 11,
   "metadata": {},
   "outputs": [],
   "source": [
    "# Verify if colnames match\n",
    "\n",
    "from collections import Counter\n",
    "\n",
    "des_colnames = ['scenario','goals','long_goal','dimension','region_id','region_name','value']\n",
    "colheaders = list(OHI.columns.values)\n",
    "\n",
    "def compare(s, t):\n",
    "    return Counter(s) == Counter(t)\n",
    "\n",
    "col_ver = compare(des_colnames, colheaders)"
   ]
  },
  {
   "cell_type": "code",
   "execution_count": 12,
   "metadata": {},
   "outputs": [
    {
     "data": {
      "text/plain": [
       "scenario       0.000000\n",
       "goals          0.000000\n",
       "long_goal      0.000000\n",
       "dimension      0.000000\n",
       "region_id      0.000000\n",
       "region_name    0.000000\n",
       "value          0.156523\n",
       "dtype: float64"
      ]
     },
     "execution_count": 12,
     "metadata": {},
     "output_type": "execute_result"
    }
   ],
   "source": [
    "# List number of missing/NA in other cases\n",
    "\n",
    "NAcount = OHItest.isna().sum()/len(OHItest)\n",
    "NAcount"
   ]
  },
  {
   "cell_type": "code",
   "execution_count": 13,
   "metadata": {},
   "outputs": [],
   "source": [
    "# If there are any fully blank entries remove the rows\n",
    "\n",
    "OHItest_rowclean = OHI.dropna(how='all')"
   ]
  },
  {
   "cell_type": "code",
   "execution_count": 14,
   "metadata": {
    "scrolled": true
   },
   "outputs": [
    {
     "data": {
      "text/html": [
       "<div>\n",
       "<style scoped>\n",
       "    .dataframe tbody tr th:only-of-type {\n",
       "        vertical-align: middle;\n",
       "    }\n",
       "\n",
       "    .dataframe tbody tr th {\n",
       "        vertical-align: top;\n",
       "    }\n",
       "\n",
       "    .dataframe thead th {\n",
       "        text-align: right;\n",
       "    }\n",
       "</style>\n",
       "<table border=\"1\" class=\"dataframe\">\n",
       "  <thead>\n",
       "    <tr style=\"text-align: right;\">\n",
       "      <th></th>\n",
       "      <th>scenario</th>\n",
       "      <th>goals</th>\n",
       "      <th>long_goal</th>\n",
       "      <th>dimension</th>\n",
       "      <th>region_id</th>\n",
       "      <th>region_name</th>\n",
       "      <th>value</th>\n",
       "      <th>unique_key</th>\n",
       "    </tr>\n",
       "  </thead>\n",
       "  <tbody>\n",
       "    <tr>\n",
       "      <th>0</th>\n",
       "      <td>2012</td>\n",
       "      <td>AO</td>\n",
       "      <td>Artisanal opportunities</td>\n",
       "      <td>future</td>\n",
       "      <td>0</td>\n",
       "      <td>Global average</td>\n",
       "      <td>80.74</td>\n",
       "      <td>2012AOfuture0</td>\n",
       "    </tr>\n",
       "    <tr>\n",
       "      <th>1</th>\n",
       "      <td>2012</td>\n",
       "      <td>AO</td>\n",
       "      <td>Artisanal opportunities</td>\n",
       "      <td>future</td>\n",
       "      <td>1</td>\n",
       "      <td>Cocos Islands</td>\n",
       "      <td>100.00</td>\n",
       "      <td>2012AOfuture1</td>\n",
       "    </tr>\n",
       "    <tr>\n",
       "      <th>2</th>\n",
       "      <td>2012</td>\n",
       "      <td>AO</td>\n",
       "      <td>Artisanal opportunities</td>\n",
       "      <td>future</td>\n",
       "      <td>2</td>\n",
       "      <td>Christmas Island</td>\n",
       "      <td>100.00</td>\n",
       "      <td>2012AOfuture2</td>\n",
       "    </tr>\n",
       "    <tr>\n",
       "      <th>3</th>\n",
       "      <td>2012</td>\n",
       "      <td>AO</td>\n",
       "      <td>Artisanal opportunities</td>\n",
       "      <td>future</td>\n",
       "      <td>3</td>\n",
       "      <td>Norfolk Island</td>\n",
       "      <td>100.00</td>\n",
       "      <td>2012AOfuture3</td>\n",
       "    </tr>\n",
       "    <tr>\n",
       "      <th>4</th>\n",
       "      <td>2012</td>\n",
       "      <td>AO</td>\n",
       "      <td>Artisanal opportunities</td>\n",
       "      <td>future</td>\n",
       "      <td>4</td>\n",
       "      <td>Macquarie Island</td>\n",
       "      <td>100.00</td>\n",
       "      <td>2012AOfuture4</td>\n",
       "    </tr>\n",
       "  </tbody>\n",
       "</table>\n",
       "</div>"
      ],
      "text/plain": [
       "   scenario goals                long_goal dimension  region_id  \\\n",
       "0      2012    AO  Artisanal opportunities    future          0   \n",
       "1      2012    AO  Artisanal opportunities    future          1   \n",
       "2      2012    AO  Artisanal opportunities    future          2   \n",
       "3      2012    AO  Artisanal opportunities    future          3   \n",
       "4      2012    AO  Artisanal opportunities    future          4   \n",
       "\n",
       "        region_name   value     unique_key  \n",
       "0    Global average   80.74  2012AOfuture0  \n",
       "1     Cocos Islands  100.00  2012AOfuture1  \n",
       "2  Christmas Island  100.00  2012AOfuture2  \n",
       "3    Norfolk Island  100.00  2012AOfuture3  \n",
       "4  Macquarie Island  100.00  2012AOfuture4  "
      ]
     },
     "execution_count": 14,
     "metadata": {},
     "output_type": "execute_result"
    }
   ],
   "source": [
    "# Adding column for unique ID ~ combine all non-numeric values\n",
    "\n",
    "OHItest['unique_key'] = OHItest[['scenario','goals','dimension','region_id']].astype(str).sum(axis=1)\n",
    "OHItest.head()"
   ]
  },
  {
   "cell_type": "code",
   "execution_count": null,
   "metadata": {},
   "outputs": [],
   "source": [
    "#`"
   ]
  }
 ],
 "metadata": {
  "kernelspec": {
   "display_name": "Python 3",
   "language": "python",
   "name": "python3"
  },
  "language_info": {
   "codemirror_mode": {
    "name": "ipython",
    "version": 3
   },
   "file_extension": ".py",
   "mimetype": "text/x-python",
   "name": "python",
   "nbconvert_exporter": "python",
   "pygments_lexer": "ipython3",
   "version": "3.6.5"
  }
 },
 "nbformat": 4,
 "nbformat_minor": 2
}
