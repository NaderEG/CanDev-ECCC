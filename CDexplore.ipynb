{
 "cells": [
  {
   "cell_type": "code",
   "execution_count": 368,
   "metadata": {},
   "outputs": [],
   "source": [
    "def flagger (data):\n",
    "\n",
    "    #data = \"2012,AO,Artisanal opportunities,future,0,Global average,80.74,\"\n",
    "    #data[r][c]\n",
    "    #counts\n",
    "\n",
    "    scenerioCounter=0\n",
    "    goalsCounter=0\n",
    "    longGoalCounter=0\n",
    "    dimensionCounter=0\n",
    "    regionIDCounter=0\n",
    "    region_nameCounter=0\n",
    "    valueCounter=0\n",
    "\n",
    "\n",
    "    for i in range(len(data)):\n",
    "\n",
    "\n",
    "        if (not(data[i][0].isdigit())):\n",
    "            scenerioCounter=scenerioCounter+1\n",
    "\n",
    "            #print(\"Scenerio: \" + str(data[i][0]))\n",
    "\n",
    "        if (not(data[i][1].isalpha())):\n",
    "            goalsCounter=goalsCounter+1\n",
    "\n",
    "            #print(\"goals: \" + str(data[i][1]))\n",
    "\n",
    "        if (not(data[i][2].replace(\" \",\"\").replace(\"&\",\"\").replace(\"(\",\"\").replace(\")\",\"\").isalpha())):\n",
    "            longGoalCounter=longGoalCounter+1\n",
    "\n",
    "            #print(\"long goal: \" + str(data[i][2]))\n",
    "\n",
    "        if (not(data[i][3].isalpha())):\n",
    "            dimensionCounter=dimensionCounter+1\n",
    "\n",
    "            #print(\"dimension \" + str(data[i][3]))\n",
    "\n",
    "        if (not(data[i][4].isdigit())):\n",
    "            regionIDCounter=regionIDCounter+1\n",
    "\n",
    "            #print(\"region ID: \" + str(data[i][4]))\n",
    "\n",
    "        if (not(data[i][5].replace(\" \",\"\").replace(\"_\",\"\").replace(\"(\",\"\").replace(\")\",\"\").replace(\"-\",\"\").isalpha())):\n",
    "            region_nameCounter=region_nameCounter+1\n",
    "\n",
    "            #print(\"region name: \" + str(data[i][5]))\n",
    "\n",
    "        if (not(data[i][6].replace(\".\",\"\").replace(\"-\",\"\").isdigit())):\n",
    "            valueCounter=valueCounter+1\n",
    "\n",
    "            #print(\"value: \" + str(data[i][6]))\n",
    "\n",
    "    return scenerioCounter, goalsCounter, longGoalCounter, dimensionCounter, regionIDCounter, region_nameCounter, valueCounter\n",
    "\n",
    "dataset = open('DataTestNI.txt')\n",
    "lines = dataset.readlines()\n",
    "row = []\n",
    "for line in lines:\n",
    "\n",
    "    row.append(line.strip().split(\",\"))\n",
    "\n",
    "typeerror_count = flagger(row)"
   ]
  },
  {
   "cell_type": "code",
   "execution_count": 369,
   "metadata": {},
   "outputs": [],
   "source": [
    "import pandas as pd\n",
    "import numpy as np"
   ]
  },
  {
   "cell_type": "code",
   "execution_count": 370,
   "metadata": {},
   "outputs": [],
   "source": [
    "# Import excel data into python\n",
    "\n",
    "# OHIdata = 'OHIData.xlsx'\n",
    "# OHI = pd.read_excel(OHIdata)\n",
    "\n",
    "OHI = pd.read_csv('OHIDataSet.csv')"
   ]
  },
  {
   "cell_type": "code",
   "execution_count": 371,
   "metadata": {},
   "outputs": [],
   "source": [
    "colheaders = list(OHI.columns.values)"
   ]
  },
  {
   "cell_type": "code",
   "execution_count": 372,
   "metadata": {},
   "outputs": [],
   "source": [
    "# Check number of missing/NA values ~ if over 80% then remove\n",
    "\n",
    "unwanted = [column for column in OHI.columns \n",
    "                if OHI[column].isna().sum()/len(OHI[column]) > 0.2]\n",
    "unwanted = \"\".join(unwanted)\n",
    "OHI = OHI.drop(unwanted, axis=1)"
   ]
  },
  {
   "cell_type": "code",
   "execution_count": 373,
   "metadata": {},
   "outputs": [],
   "source": [
    "# Verify if colnames match\n",
    "\n",
    "from collections import Counter\n",
    "\n",
    "des_colnames = ['scenario','goals','long_goal','dimension','region_id','region_name','value']\n",
    "colheaders = list(OHI.columns.values)\n",
    "\n",
    "def compare(s, t):\n",
    "    return Counter(s) == Counter(t)\n",
    "\n",
    "col_ver = compare(des_colnames, colheaders)"
   ]
  },
  {
   "cell_type": "code",
   "execution_count": 374,
   "metadata": {},
   "outputs": [],
   "source": [
    "# List number of missing/NA in other cases\n",
    "\n",
    "NAcount = OHI.isna().sum()/len(OHI)"
   ]
  },
  {
   "cell_type": "code",
   "execution_count": 375,
   "metadata": {},
   "outputs": [],
   "source": [
    "# If there are any fully blank entries remove the rows\n",
    "\n",
    "OHIpre = len(OHI)\n",
    "OHI = OHI.dropna(how='all')\n",
    "OHIpost = len(OHI)\n",
    "diff = OHIpre - OHIpost"
   ]
  },
  {
   "cell_type": "code",
   "execution_count": 376,
   "metadata": {},
   "outputs": [],
   "source": [
    "contain_uniqueid = (len(OHI.iloc[:, 0].unique()) == len(OHI),\n",
    "    len(OHI.iloc[:, 1].unique()) == len(OHI),\n",
    "    len(OHI.iloc[:, 2].unique()) == len(OHI),\n",
    "    len(OHI.iloc[:, 3].unique()) == len(OHI),\n",
    "    len(OHI.iloc[:, 4].unique()) == len(OHI),\n",
    "    len(OHI.iloc[:, 5].unique()) == len(OHI),\n",
    "    len(OHI.iloc[:, 6].unique()) == len(OHI))\n",
    "\n",
    "contain_uniqueid = contain_uniqueid.count(\"True\")"
   ]
  },
  {
   "cell_type": "code",
   "execution_count": 377,
   "metadata": {
    "scrolled": true
   },
   "outputs": [],
   "source": [
    "# Adding column for unique ID ~ combine all non-numeric values\n",
    "\n",
    "OHI['unique_key'] = OHI[['scenario','goals','dimension','region_id']].astype(str).sum(axis=1)"
   ]
  },
  {
   "cell_type": "code",
   "execution_count": 378,
   "metadata": {},
   "outputs": [],
   "source": [
    "#`"
   ]
  },
  {
   "cell_type": "code",
   "execution_count": 379,
   "metadata": {},
   "outputs": [],
   "source": [
    "# Create  scoring system\n",
    "\n",
    "# Are there any mismatched types\n",
    "if sum(typeerror_count) == 0:\n",
    "    score1 = 1\n",
    "else:\n",
    "    score1 = 0\n",
    "\n",
    "if col_ver == True:\n",
    "    score2 = 1\n",
    "else:\n",
    "    score2 = 0\n",
    "    \n",
    "score3 = 1 -sum(NAcount)/len(OHI.columns)\n",
    "\n",
    "if unwanted == \"NA\":\n",
    "    score4 = 1\n",
    "else:\n",
    "    score4 = 0\n",
    "\n",
    "if diff == 0:\n",
    "    score5 = 1\n",
    "else:\n",
    "    score5 = 0\n",
    "    \n",
    "if contain_uniqueid == 1:\n",
    "    score6 = 1\n",
    "else:\n",
    "    score6 = 0"
   ]
  },
  {
   "cell_type": "code",
   "execution_count": 380,
   "metadata": {},
   "outputs": [],
   "source": [
    "scores = score1, score2, score3, score4, score5, score6"
   ]
  },
  {
   "cell_type": "code",
   "execution_count": 381,
   "metadata": {},
   "outputs": [],
   "source": [
    "totalscore = np.mean(scores)\n",
    "totalscore_opp = 1 - totalscore"
   ]
  },
  {
   "cell_type": "markdown",
   "metadata": {},
   "source": [
    "# Data Fitness Assesment"
   ]
  },
  {
   "cell_type": "markdown",
   "metadata": {},
   "source": [
    "### Total Data Fitness Score"
   ]
  },
  {
   "cell_type": "code",
   "execution_count": 382,
   "metadata": {
    "scrolled": true
   },
   "outputs": [
    {
     "data": {
      "image/png": "[encoded data removed]",
      "text/plain": [
       "<Figure size 432x288 with 1 Axes>"
      ]
     },
     "metadata": {},
     "output_type": "display_data"
    }
   ],
   "source": [
    "import matplotlib\n",
    "import matplotlib.pyplot as plt\n",
    "\n",
    "matplotlib.use('GTK',warn=False, force=True)\n",
    "\n",
    "totalscore = np.round(totalscore, decimals=3)\n",
    "\n",
    "size_of_groups=[totalscore, totalscore_opp]\n",
    "names=totalscore, ''\n",
    "cols = 'green', 'red'\n",
    "plt.pie(size_of_groups, labels=names, colors = cols)\n",
    "my_circle=plt.Circle( (0,0), 0.7, color='white')\n",
    "p=plt.gcf()\n",
    "p.gca().add_artist(my_circle)\n",
    "plt.legend([\"Score\", \"Missing\"])\n",
    "plt.show()\n",
    "\n",
    "# Add legend"
   ]
  },
  {
   "cell_type": "markdown",
   "metadata": {},
   "source": [
    "### Evaluation Decision"
   ]
  },
  {
   "cell_type": "code",
   "execution_count": 383,
   "metadata": {},
   "outputs": [
    {
     "name": "stdout",
     "output_type": "stream",
     "text": [
      "This dataset recieves a FAIL\n",
      "\n",
      "If any of the essential checks covered reveals flags then the dataset is assigned a fail.\n"
     ]
    }
   ],
   "source": [
    "if scores.count(0) >=1:\n",
    "    eval = \"FAIL\"\n",
    "else:\n",
    "    eval = \"PASS\"\n",
    "    \n",
    "print(\"This dataset recieves a\", eval)\n",
    "print(\"\")\n",
    "print(\"If any of the essential checks covered reveals flags then the dataset is assigned a fail.\")"
   ]
  },
  {
   "cell_type": "markdown",
   "metadata": {},
   "source": [
    "### Flagged Controls"
   ]
  },
  {
   "cell_type": "code",
   "execution_count": 384,
   "metadata": {},
   "outputs": [
    {
     "name": "stdout",
     "output_type": "stream",
     "text": [
      "The number of flagged controls is: 3\n"
     ]
    }
   ],
   "source": [
    "numflags = scores.count(0)\n",
    "print('The number of flagged controls is:', numflags)"
   ]
  },
  {
   "cell_type": "code",
   "execution_count": 385,
   "metadata": {},
   "outputs": [],
   "source": [
    "# List of flagged controls\n",
    "\n",
    "indexes = [index for index in range(len(scores)) if scores[index] == 0]\n",
    "scorenames = [\"Type mismatch\", \"Header mismatch\", \"NA column\", \"Extra columns\", \"NA rows\", \"Missing unique ID\"]"
   ]
  },
  {
   "cell_type": "code",
   "execution_count": 386,
   "metadata": {},
   "outputs": [
    {
     "name": "stdout",
     "output_type": "stream",
     "text": [
      "The areas that were flagged are ['Type mismatch', 'Extra columns', 'Missing unique ID']\n"
     ]
    }
   ],
   "source": [
    "flags = [scorenames[i] for i in indexes]\n",
    "print('The areas that were flagged are', flags)"
   ]
  },
  {
   "cell_type": "markdown",
   "metadata": {},
   "source": [
    "### FAIR Criteria"
   ]
  },
  {
   "cell_type": "code",
   "execution_count": 387,
   "metadata": {},
   "outputs": [],
   "source": [
    "#`"
   ]
  }
 ],
 "metadata": {
  "kernelspec": {
   "display_name": "Python 3",
   "language": "python",
   "name": "python3"
  },
  "language_info": {
   "codemirror_mode": {
    "name": "ipython",
    "version": 3
   },
   "file_extension": ".py",
   "mimetype": "text/x-python",
   "name": "python",
   "nbconvert_exporter": "python",
   "pygments_lexer": "ipython3",
   "version": "3.6.5"
  }
 },
 "nbformat": 4,
 "nbformat_minor": 2
}
