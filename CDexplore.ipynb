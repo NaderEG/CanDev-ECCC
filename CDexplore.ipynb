{
 "cells": [
  {
   "cell_type": "code",
   "execution_count": 259,
   "metadata": {},
   "outputs": [
    {
     "data": {
      "text/html": [
       "<script>\n",
       "code_show=true; \n",
       "function code_toggle() {\n",
       " if (code_show){\n",
       " $('div.input').hide();\n",
       " } else {\n",
       " $('div.input').show();\n",
       " }\n",
       " code_show = !code_show\n",
       "} \n",
       "$( document ).ready(code_toggle);\n",
       "</script>\n",
       "The raw code for this IPython notebook is by default hidden for easier reading.\n",
       "To toggle on/off the raw code, click <a href=\"javascript:code_toggle()\">here</a>."
      ],
      "text/plain": [
       "<IPython.core.display.HTML object>"
      ]
     },
     "execution_count": 259,
     "metadata": {},
     "output_type": "execute_result"
    }
   ],
   "source": [
    "from IPython.display import HTML\n",
    "\n",
    "HTML('''<script>\n",
    "code_show=true; \n",
    "function code_toggle() {\n",
    " if (code_show){\n",
    " $('div.input').hide();\n",
    " } else {\n",
    " $('div.input').show();\n",
    " }\n",
    " code_show = !code_show\n",
    "} \n",
    "$( document ).ready(code_toggle);\n",
    "</script>\n",
    "The raw code for this IPython notebook is by default hidden for easier reading.\n",
    "To toggle on/off the raw code, click <a href=\"javascript:code_toggle()\">here</a>.''')"
   ]
  },
  {
   "cell_type": "code",
   "execution_count": 260,
   "metadata": {},
   "outputs": [],
   "source": [
    "def flagger (data):\n",
    "\n",
    "    #data = \"2012,AO,Artisanal opportunities,future,0,Global average,80.74,\"\n",
    "    #data[r][c]\n",
    "    #counts\n",
    "\n",
    "    scenerioCounter=0\n",
    "    goalsCounter=0\n",
    "    longGoalCounter=0\n",
    "    dimensionCounter=0\n",
    "    regionIDCounter=0\n",
    "    region_nameCounter=0\n",
    "    valueCounter=0\n",
    "\n",
    "\n",
    "    for i in range(len(data)):\n",
    "\n",
    "\n",
    "        if (not(data[i][0].isdigit())):\n",
    "            scenerioCounter=scenerioCounter+1\n",
    "\n",
    "            #print(\"Scenerio: \" + str(data[i][0]))\n",
    "\n",
    "        if (not(data[i][1].isalpha())):\n",
    "            goalsCounter=goalsCounter+1\n",
    "\n",
    "            #print(\"goals: \" + str(data[i][1]))\n",
    "\n",
    "        if (not(data[i][2].replace(\" \",\"\").replace(\"&\",\"\").replace(\"(\",\"\").replace(\")\",\"\").isalpha())):\n",
    "            longGoalCounter=longGoalCounter+1\n",
    "\n",
    "            #print(\"long goal: \" + str(data[i][2]))\n",
    "\n",
    "        if (not(data[i][3].isalpha())):\n",
    "            dimensionCounter=dimensionCounter+1\n",
    "\n",
    "            #print(\"dimension \" + str(data[i][3]))\n",
    "\n",
    "        if (not(data[i][4].isdigit())):\n",
    "            regionIDCounter=regionIDCounter+1\n",
    "\n",
    "            #print(\"region ID: \" + str(data[i][4]))\n",
    "\n",
    "        if (not(data[i][5].replace(\" \",\"\").replace(\"_\",\"\").replace(\"(\",\"\").replace(\")\",\"\").replace(\"-\",\"\").isalpha())):\n",
    "            region_nameCounter=region_nameCounter+1\n",
    "\n",
    "            #print(\"region name: \" + str(data[i][5]))\n",
    "\n",
    "        if (not(data[i][6].replace(\".\",\"\").replace(\"-\",\"\").isdigit())):\n",
    "            valueCounter=valueCounter+1\n",
    "\n",
    "            #print(\"value: \" + str(data[i][6]))\n",
    "\n",
    "    return scenerioCounter, goalsCounter, longGoalCounter, dimensionCounter, regionIDCounter, region_nameCounter, valueCounter\n",
    "\n",
    "dataset = open('DataTestNI.txt')\n",
    "lines = dataset.readlines()\n",
    "row = []\n",
    "for line in lines:\n",
    "\n",
    "    row.append(line.strip().split(\",\"))\n",
    "\n",
    "typeerror_count = flagger(row)"
   ]
  },
  {
   "cell_type": "code",
   "execution_count": 261,
   "metadata": {},
   "outputs": [],
   "source": [
    "import pandas as pd\n",
    "import numpy as np"
   ]
  },
  {
   "cell_type": "code",
   "execution_count": 262,
   "metadata": {},
   "outputs": [],
   "source": [
    "# Import excel data into python\n",
    "\n",
    "# OHIdata = 'OHIData.xlsx'\n",
    "# OHI = pd.read_excel(OHIdata)\n",
    "\n",
    "OHI = pd.read_csv('OHIDataSet.csv')"
   ]
  },
  {
   "cell_type": "code",
   "execution_count": 263,
   "metadata": {},
   "outputs": [],
   "source": [
    "colheaders = list(OHI.columns.values)"
   ]
  },
  {
   "cell_type": "code",
   "execution_count": 264,
   "metadata": {},
   "outputs": [],
   "source": [
    "# Check number of missing/NA values ~ if over 80% then remove\n",
    "\n",
    "unwanted = [column for column in OHI.columns \n",
    "                if OHI[column].isna().sum()/len(OHI[column]) > 0.2]\n",
    "unwanted = \"\".join(unwanted)\n",
    "OHI = OHI.drop(unwanted, axis=1)"
   ]
  },
  {
   "cell_type": "code",
   "execution_count": 265,
   "metadata": {},
   "outputs": [],
   "source": [
    "# Verify if colnames match\n",
    "\n",
    "from collections import Counter\n",
    "\n",
    "des_colnames = ['scenario','goals','long_goal','dimension','region_id','region_name','value']\n",
    "colheaders = list(OHI.columns.values)\n",
    "\n",
    "def compare(s, t):\n",
    "    return Counter(s) == Counter(t)\n",
    "\n",
    "col_ver = compare(des_colnames, colheaders)"
   ]
  },
  {
   "cell_type": "code",
   "execution_count": 266,
   "metadata": {},
   "outputs": [],
   "source": [
    "# List number of missing/NA in other cases\n",
    "\n",
    "NAcount = OHI.isna().sum()/len(OHI)"
   ]
  },
  {
   "cell_type": "code",
   "execution_count": 267,
   "metadata": {},
   "outputs": [],
   "source": [
    "# If there are any fully blank entries remove the rows\n",
    "\n",
    "OHIpre = len(OHI)\n",
    "OHI = OHI.dropna(how='all')\n",
    "OHIpost = len(OHI)\n",
    "diff = OHIpre - OHIpost"
   ]
  },
  {
   "cell_type": "code",
   "execution_count": 268,
   "metadata": {},
   "outputs": [],
   "source": [
    "contain_uniqueid = (len(OHI.iloc[:, 0].unique()) == len(OHI),\n",
    "    len(OHI.iloc[:, 1].unique()) == len(OHI),\n",
    "    len(OHI.iloc[:, 2].unique()) == len(OHI),\n",
    "    len(OHI.iloc[:, 3].unique()) == len(OHI),\n",
    "    len(OHI.iloc[:, 4].unique()) == len(OHI),\n",
    "    len(OHI.iloc[:, 5].unique()) == len(OHI),\n",
    "    len(OHI.iloc[:, 6].unique()) == len(OHI))\n",
    "\n",
    "contain_uniqueid = contain_uniqueid.count(\"True\")"
   ]
  },
  {
   "cell_type": "code",
   "execution_count": 269,
   "metadata": {
    "scrolled": true
   },
   "outputs": [],
   "source": [
    "# Adding column for unique ID ~ combine all non-numeric values\n",
    "\n",
    "OHI['unique_key'] = OHI[['scenario','goals','dimension','region_id']].astype(str).sum(axis=1)"
   ]
  },
  {
   "cell_type": "code",
   "execution_count": 270,
   "metadata": {},
   "outputs": [],
   "source": [
    "# Create  scoring system\n",
    "\n",
    "# Are there any mismatched types\n",
    "if sum(typeerror_count) == 0:\n",
    "    score1 = 1\n",
    "else:\n",
    "    score1 = 0\n",
    "\n",
    "if col_ver == True:\n",
    "    score2 = 1\n",
    "else:\n",
    "    score2 = 0\n",
    "    \n",
    "score3 = 1 -sum(NAcount)/len(OHI.columns)\n",
    "\n",
    "if unwanted == \"NA\":\n",
    "    score4 = 1\n",
    "else:\n",
    "    score4 = 0\n",
    "\n",
    "if diff == 0:\n",
    "    score5 = 1\n",
    "else:\n",
    "    score5 = 0\n",
    "    \n",
    "if contain_uniqueid == 1:\n",
    "    score6 = 1\n",
    "else:\n",
    "    score6 = 0"
   ]
  },
  {
   "cell_type": "code",
   "execution_count": 271,
   "metadata": {},
   "outputs": [],
   "source": [
    "scores = score1, score2, score3, score4, score5, score6"
   ]
  },
  {
   "cell_type": "code",
   "execution_count": 272,
   "metadata": {},
   "outputs": [],
   "source": [
    "totalscore = np.mean(scores)\n",
    "totalscore_opp = 1 - totalscore"
   ]
  },
  {
   "cell_type": "markdown",
   "metadata": {},
   "source": [
    "# Automated Data Fitness Report"
   ]
  },
  {
   "cell_type": "markdown",
   "metadata": {},
   "source": [
    "## Fitness Score:"
   ]
  },
  {
   "cell_type": "code",
   "execution_count": 273,
   "metadata": {
    "scrolled": true
   },
   "outputs": [
    {
     "data": {
      "image/png": "[encoded data removed]",
      "text/plain": [
       "<Figure size 432x288 with 1 Axes>"
      ]
     },
     "metadata": {},
     "output_type": "display_data"
    }
   ],
   "source": [
    "import matplotlib\n",
    "import matplotlib.pyplot as plt\n",
    "\n",
    "matplotlib.use('GTK',warn=False, force=True)\n",
    "\n",
    "totalscore = np.round(totalscore, decimals=3)\n",
    "\n",
    "size_of_groups=[totalscore, totalscore_opp]\n",
    "names=totalscore, ''\n",
    "cols = 'green', 'red'\n",
    "plt.pie(size_of_groups, labels=names, colors = cols)\n",
    "my_circle=plt.Circle( (0,0), 0.7, color='white')\n",
    "p=plt.gcf()\n",
    "p.gca().add_artist(my_circle)\n",
    "plt.legend([\"Score\", \"Missing\"])\n",
    "plt.show()\n",
    "\n",
    "# Add legend"
   ]
  },
  {
   "cell_type": "markdown",
   "metadata": {},
   "source": [
    "## PASS-FAIL Evaluation:"
   ]
  },
  {
   "cell_type": "code",
   "execution_count": 274,
   "metadata": {},
   "outputs": [
    {
     "name": "stdout",
     "output_type": "stream",
     "text": [
      "This dataset recieves a FAIL\n",
      "\n",
      "The dataset needs to be reassessed.\n"
     ]
    }
   ],
   "source": [
    "if scores.count(0) >=1:\n",
    "    eval = \"FAIL\"\n",
    "else:\n",
    "    eval = \"PASS\"\n",
    "    \n",
    "print(\"This dataset recieves a\", eval)\n",
    "print(\"\")\n",
    "print(\"The dataset needs to be reassessed.\")"
   ]
  },
  {
   "cell_type": "markdown",
   "metadata": {},
   "source": [
    "## Flagged Controls:"
   ]
  },
  {
   "cell_type": "code",
   "execution_count": 275,
   "metadata": {},
   "outputs": [
    {
     "name": "stdout",
     "output_type": "stream",
     "text": [
      "The number of flagged controls is: 3\n"
     ]
    }
   ],
   "source": [
    "numflags = scores.count(0)\n",
    "print('The number of flagged controls is:', numflags)"
   ]
  },
  {
   "cell_type": "code",
   "execution_count": 276,
   "metadata": {},
   "outputs": [],
   "source": [
    "# List of flagged controls\n",
    "\n",
    "indexes = [index for index in range(len(scores)) if scores[index] == 0]\n",
    "scorenames = [\"Type mismatch\", \"Header mismatch\", \"NA column\", \"Extra columns\", \"NA rows\", \"Missing unique ID\"]"
   ]
  },
  {
   "cell_type": "code",
   "execution_count": 277,
   "metadata": {},
   "outputs": [
    {
     "name": "stdout",
     "output_type": "stream",
     "text": [
      "The areas that were flagged are ['Type mismatch', 'Extra columns', 'Missing unique ID']\n"
     ]
    }
   ],
   "source": [
    "flags = [scorenames[i] for i in indexes]\n",
    "print('The areas that were flagged are', flags)"
   ]
  },
  {
   "cell_type": "code",
   "execution_count": 278,
   "metadata": {},
   "outputs": [],
   "source": [
    "if(score1 == 1):\n",
    "    score1eval = \"FAIL\"\n",
    "else:\n",
    "    score1eval = \"PASS\"\n",
    "\n",
    "if (score2 == 1):\n",
    "    score2eval = \"FAIL\"\n",
    "else:\n",
    "    score2eval = \"PASS\"\n",
    "\n",
    "if (score3 <= 0.8):\n",
    "    score3eval = \"FAIL\"\n",
    "else:\n",
    "    score3eval = \"PASS\"\n",
    "\n",
    "if (score4 == 1):\n",
    "    score4eval = \"FAIL\"\n",
    "else:\n",
    "    score4eval = \"PASS\"\n",
    "\n",
    "if (score5 == 1):\n",
    "    score5eval = \"FAIL\"\n",
    "else:\n",
    "    score5eval = \"PASS\"\n",
    "\n",
    "if (score6 == 1):\n",
    "    score6eval = \"FAIL\"\n",
    "else:\n",
    "    score6eval = \"PASS\""
   ]
  },
  {
   "cell_type": "markdown",
   "metadata": {},
   "source": [
    "## Criteria Results:"
   ]
  },
  {
   "cell_type": "code",
   "execution_count": 279,
   "metadata": {},
   "outputs": [
    {
     "name": "stdout",
     "output_type": "stream",
     "text": [
      "Extra columns: PASS\n",
      "Header mismatch: FAIL\n",
      "Missing unique ID: PASS\n",
      "NA column: PASS\n",
      "NA rows: FAIL\n",
      "Type mismatch: PASS\n"
     ]
    }
   ],
   "source": [
    "print(\"Extra columns: \" + score4eval)\n",
    "print(\"Header mismatch: \" + score2eval)\n",
    "print(\"Missing unique ID: \" + score6eval)\n",
    "print(\"NA column: \" + score3eval)\n",
    "print(\"NA rows: \" + score5eval)\n",
    "print(\"Type mismatch: \" + score1eval)"
   ]
  },
  {
   "cell_type": "code",
   "execution_count": 280,
   "metadata": {},
   "outputs": [],
   "source": [
    "metadata_file = open(\"METADATA.txt\").read().split()"
   ]
  },
  {
   "cell_type": "markdown",
   "metadata": {},
   "source": [
    "## F.A.I.R Criteria:"
   ]
  },
  {
   "cell_type": "code",
   "execution_count": 281,
   "metadata": {},
   "outputs": [
    {
     "name": "stdout",
     "output_type": "stream",
     "text": [
      "TO BE FINDABLE:\n",
      "\n",
      "F1: (meta)data are assigned a globally unique and eternally persistent identifier.\n",
      "\n",
      "\n",
      "No, the metadata does not contain a unique ID.\n"
     ]
    }
   ],
   "source": [
    "print('TO BE FINDABLE:')\n",
    "print('')\n",
    "print('F1: (meta)data are assigned a globally unique and eternally persistent identifier.')\n",
    "print('')\n",
    "print('')\n",
    "\n",
    "listsearch = ['unique', 'id', 'key']\n",
    "result =  any(elem in metadata_file  for elem in listsearch)\n",
    " \n",
    "if result:\n",
    "    print(\"Yes, the metadata contains a unique ID.\")\n",
    "    F = 1\n",
    "else:\n",
    "    print(\"No, the metadata does not contain a unique ID.\")\n",
    "    F = 0"
   ]
  },
  {
   "cell_type": "code",
   "execution_count": 282,
   "metadata": {},
   "outputs": [
    {
     "name": "stdout",
     "output_type": "stream",
     "text": [
      "TO BE ACCESSIBLE:\n",
      "\n",
      "A1: (meta)data are retrievable by their identifier using a standardized communications protocol.\n",
      "\n",
      "\n",
      "The rows are uniquely identifiable by the \"unique_key\" entry.\n"
     ]
    }
   ],
   "source": [
    "print('TO BE ACCESSIBLE:')\n",
    "print('')\n",
    "print('A1: (meta)data are retrievable by their identifier using a standardized communications protocol.')\n",
    "print('')\n",
    "print('')\n",
    "\n",
    "import random\n",
    "rowcheck = random.randint(1,len(OHI))\n",
    "\n",
    "if OHI.iloc[rowcheck, 7] in OHI.iloc[rowcheck, :][7]:\n",
    "    print('The rows are uniquely identifiable by the \"unique_key\" entry.')\n",
    "    A = 1\n",
    "else:\n",
    "    print('The rows are not uniquely identifiable by the \"unique_key\" entry.')\n",
    "    A = 0"
   ]
  },
  {
   "cell_type": "code",
   "execution_count": 283,
   "metadata": {},
   "outputs": [
    {
     "name": "stdout",
     "output_type": "stream",
     "text": [
      "TO BE INTEROPERABLE:\n",
      "\n",
      "I3. (meta)data include qualified references to other (meta)data.\n",
      "\n",
      "\n",
      "No, there are no references to external metadata.\n"
     ]
    }
   ],
   "source": [
    "print('TO BE INTEROPERABLE:')\n",
    "print('')\n",
    "print('I3. (meta)data include qualified references to other (meta)data.')\n",
    "print('')\n",
    "print('')\n",
    "\n",
    "listsearch = ['external', 'metadata']\n",
    "result =  all(elem in metadata_file  for elem in listsearch)\n",
    " \n",
    "if result:\n",
    "    print(\"Yes, there is a reference to external metadata.\")\n",
    "    I = 1\n",
    "else:\n",
    "    print(\"No, there are no references to external metadata.\")\n",
    "    I = 0"
   ]
  },
  {
   "cell_type": "code",
   "execution_count": 284,
   "metadata": {},
   "outputs": [
    {
     "name": "stdout",
     "output_type": "stream",
     "text": [
      "TO BE RE-USABLE:\n",
      "\n",
      "R1.1. (meta)data are released with a clear and accessible data usage license.\n",
      "\n",
      "\n",
      "No, the metadata does not contain an appropriate license.\n"
     ]
    }
   ],
   "source": [
    "print('TO BE RE-USABLE:')\n",
    "print('')\n",
    "print('R1.1. (meta)data are released with a clear and accessible data usage license.')\n",
    "print('')\n",
    "print('')\n",
    "\n",
    "listsearch = ['license']\n",
    "result =  any(elem in metadata_file  for elem in listsearch)\n",
    " \n",
    "if result:\n",
    "    print(\"Yes, the metadata contains an appropriate license.\")\n",
    "    R = 1\n",
    "else:\n",
    "    print(\"No, the metadata does not contain an appropriate license.\")\n",
    "    R = 0"
   ]
  },
  {
   "cell_type": "code",
   "execution_count": 285,
   "metadata": {},
   "outputs": [
    {
     "data": {
      "image/png": "[encoded data removed]",
      "text/plain": [
       "<Figure size 432x288 with 1 Axes>"
      ]
     },
     "metadata": {},
     "output_type": "display_data"
    }
   ],
   "source": [
    "# Vizualization highlighting the FAIR scores\n",
    "# `\n",
    "\n",
    "if F is 1:\n",
    "    colF='green'\n",
    "else:\n",
    "    colF='red'\n",
    "\n",
    "if A is 1:\n",
    "    colA='green'\n",
    "else:\n",
    "    colA='red'\n",
    "\n",
    "if I is 1:\n",
    "    colI='green'\n",
    "else:\n",
    "    colI='red'\n",
    "\n",
    "if R is 1:\n",
    "    colR='green'\n",
    "else:\n",
    "    colR='red'\n",
    "    \n",
    "size_of_groups=[0.25, 0.25, 0.25, 0.25]\n",
    "names=\"Findable\", \"Accessible\", \"Interoperable\", \"Re-usable\"\n",
    "cols = colF, colA, colI, colR\n",
    "plt.pie(size_of_groups, labels=names, colors = cols)\n",
    "my_circle=plt.Circle( (0,0), 0.7, color='white')\n",
    "p=plt.gcf()\n",
    "p.gca().add_artist(my_circle)\n",
    "#plt.legend([\"Score\", \"Missing\"])\n",
    "plt.show()"
   ]
  },
  {
   "cell_type": "markdown",
   "metadata": {},
   "source": [
    "## Descriptive Statistics:"
   ]
  },
  {
   "cell_type": "code",
   "execution_count": 286,
   "metadata": {},
   "outputs": [
    {
     "name": "stdout",
     "output_type": "stream",
     "text": [
      "Total entries: 146196\n",
      "Total countries: 222\n"
     ]
    }
   ],
   "source": [
    "print('Total entries:', len(OHI))\n",
    "print('Total countries:', len(OHI.iloc[:, 4].unique()) )"
   ]
  },
  {
   "cell_type": "code",
   "execution_count": 287,
   "metadata": {},
   "outputs": [
    {
     "name": "stdout",
     "output_type": "stream",
     "text": [
      "Descriptive statistics for all measurements:\n"
     ]
    }
   ],
   "source": [
    "print('Descriptive statistics for all measurements:')"
   ]
  },
  {
   "cell_type": "code",
   "execution_count": 288,
   "metadata": {},
   "outputs": [
    {
     "data": {
      "text/html": [
       "<div>\n",
       "<style scoped>\n",
       "    .dataframe tbody tr th:only-of-type {\n",
       "        vertical-align: middle;\n",
       "    }\n",
       "\n",
       "    .dataframe tbody tr th {\n",
       "        vertical-align: top;\n",
       "    }\n",
       "\n",
       "    .dataframe thead th {\n",
       "        text-align: right;\n",
       "    }\n",
       "</style>\n",
       "<table border=\"1\" class=\"dataframe\">\n",
       "  <thead>\n",
       "    <tr style=\"text-align: right;\">\n",
       "      <th></th>\n",
       "      <th>value</th>\n",
       "    </tr>\n",
       "  </thead>\n",
       "  <tbody>\n",
       "    <tr>\n",
       "      <th>count</th>\n",
       "      <td>123313.000000</td>\n",
       "    </tr>\n",
       "    <tr>\n",
       "      <th>mean</th>\n",
       "      <td>51.606179</td>\n",
       "    </tr>\n",
       "    <tr>\n",
       "      <th>std</th>\n",
       "      <td>33.835575</td>\n",
       "    </tr>\n",
       "    <tr>\n",
       "      <th>min</th>\n",
       "      <td>-1.000000</td>\n",
       "    </tr>\n",
       "    <tr>\n",
       "      <th>25%</th>\n",
       "      <td>24.550000</td>\n",
       "    </tr>\n",
       "    <tr>\n",
       "      <th>50%</th>\n",
       "      <td>56.150000</td>\n",
       "    </tr>\n",
       "    <tr>\n",
       "      <th>75%</th>\n",
       "      <td>80.810000</td>\n",
       "    </tr>\n",
       "    <tr>\n",
       "      <th>max</th>\n",
       "      <td>100.000000</td>\n",
       "    </tr>\n",
       "  </tbody>\n",
       "</table>\n",
       "</div>"
      ],
      "text/plain": [
       "               value\n",
       "count  123313.000000\n",
       "mean       51.606179\n",
       "std        33.835575\n",
       "min        -1.000000\n",
       "25%        24.550000\n",
       "50%        56.150000\n",
       "75%        80.810000\n",
       "max       100.000000"
      ]
     },
     "execution_count": 288,
     "metadata": {},
     "output_type": "execute_result"
    }
   ],
   "source": [
    "pd.DataFrame(OHI.iloc[:, 6]).describe()"
   ]
  }
 ],
 "metadata": {
  "kernelspec": {
   "display_name": "Python 3",
   "language": "python",
   "name": "python3"
  },
  "language_info": {
   "codemirror_mode": {
    "name": "ipython",
    "version": 3
   },
   "file_extension": ".py",
   "mimetype": "text/x-python",
   "name": "python",
   "nbconvert_exporter": "python",
   "pygments_lexer": "ipython3",
   "version": "3.6.5"
  }
 },
 "nbformat": 4,
 "nbformat_minor": 2
}
